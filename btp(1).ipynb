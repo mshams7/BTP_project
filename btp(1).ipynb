{
  "nbformat": 4,
  "nbformat_minor": 0,
  "metadata": {
    "colab": {
      "provenance": [],
      "collapsed_sections": []
    },
    "kernelspec": {
      "name": "python3",
      "display_name": "Python 3"
    },
    "language_info": {
      "name": "python"
    }
  },
  "cells": [
    {
      "cell_type": "code",
      "source": [
        "from sklearn.metrics import r2_score\n",
        "from sklearn.ensemble import RandomForestRegressor\n",
        "from sklearn.metrics import mean_squared_error\n",
        "import pandas as pd #preprocessing of data \n",
        "import numpy as np # mathematical clculation \n",
        "import math\n",
        "import matplotlib.pyplot as plt #graphical representation \n",
        "from google.colab import drive\n",
        "drive.mount('/content/drive')\n",
        "df = pd.read_csv('/content/drive/MyDrive/btp_inputFILE.csv')"
      ],
      "metadata": {
        "colab": {
          "base_uri": "https://localhost:8080/"
        },
        "id": "W29dWPsKl7yH",
        "outputId": "bb644375-1aa3-4525-bd4f-b99f3c096f60"
      },
      "execution_count": null,
      "outputs": [
        {
          "output_type": "stream",
          "name": "stdout",
          "text": [
            "Drive already mounted at /content/drive; to attempt to forcibly remount, call drive.mount(\"/content/drive\", force_remount=True).\n"
          ]
        }
      ]
    },
    {
      "cell_type": "code",
      "execution_count": null,
      "metadata": {
        "colab": {
          "base_uri": "https://localhost:8080/",
          "height": 404
        },
        "id": "mDsKOCp9lp8j",
        "outputId": "0e07943c-49fb-46cc-d372-f3b5e4721294"
      },
      "outputs": [
        {
          "output_type": "stream",
          "name": "stderr",
          "text": [
            "WARNING:matplotlib.legend:No handles with labels found to put in legend.\n"
          ]
        },
        {
          "output_type": "stream",
          "name": "stdout",
          "text": [
            "R2 score =  0.8038150058739548\n",
            "mean square error =  0.48271223406249697\n",
            " root mean square error =  0.6947749520977976\n",
            "[12.2752  15.35028 11.23966 14.0848  11.85684 11.7967  12.08196 14.7287\n",
            " 12.2516  14.59372 10.82408 11.52644 14.14884  9.5139  10.96012 14.39634\n",
            " 15.4201  14.8328  15.725   10.86146 11.7074  11.0717  12.5285  12.3789\n",
            " 12.5844  11.8967  11.69094 11.4766  12.165   11.20386 12.2532  13.609  ]\n"
          ]
        },
        {
          "output_type": "display_data",
          "data": {
            "text/plain": [
              "<Figure size 432x288 with 1 Axes>"
            ],
            "image/png": "[encoded data removed]"
          },
          "metadata": {
            "needs_background": "light"
          }
        }
      ],
      "source": [
        "df.set_index('Exp no.', drop= False , inplace=True)\n",
        "# dividing into x and y variables\n",
        "xtrain = df.drop(columns='output(y)')\n",
        "ytrain = df['output(y)']\n",
        "\n",
        "# importing model and metric\n",
        "\n",
        "# initializing the model\n",
        "model = RandomForestRegressor()\n",
        "\n",
        "# training the model\n",
        "model.fit(xtrain, ytrain)\n",
        "\n",
        "# making predictions for training data\n",
        "train_pred = model.predict(xtrain)\n",
        "\n",
        "print('R2 score = ', r2_score(train_pred, ytrain))\n",
        "mse = mean_squared_error(train_pred, ytrain)\n",
        "print('mean square error = ',mse)\n",
        "rmse = math.sqrt(mse)\n",
        "print(' root mean square error = ',rmse )\n",
        "print(train_pred)\n",
        "x = np.array([1,2,3,4,5,6,7,8,9,10,11,12,13,14,15,16,17,18,19,20,21,22,23,24,25,26,27,28,29,30,31,32])\n",
        "y = train_pred\n",
        "z= ytrain\n",
        "plt.plot(x, y,'r--','predicted_data')\n",
        "plt.plot(x, z, 'b--', 'trained_data')\n",
        "plt.legend()\n",
        "plt.show()\n",
        "\n",
        "\n",
        "\n",
        "\n",
        "\n",
        "\n"
      ]
    }
  ]
}